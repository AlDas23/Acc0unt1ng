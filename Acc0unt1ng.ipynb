{
  "nbformat": 4,
  "nbformat_minor": 0,
  "metadata": {
    "colab": {
      "provenance": []
    },
    "kernelspec": {
      "name": "python3",
      "display_name": "Python 3"
    },
    "language_info": {
      "name": "python"
    }
  },
  "cells": [
    {
      "cell_type": "markdown",
      "source": [
        "# Acc0unt1ng\n",
        "\n",
        "\n",
        "---\n",
        "\n",
        "\n",
        "### Colab version of Acc0unt1ng app from [GitHub](https://github.com/AlDas23/Acc0unt1ng)\n",
        "\n"
      ],
      "metadata": {
        "id": "aIOtSsRgOWBW"
      }
    },
    {
      "cell_type": "markdown",
      "source": [
        "# 1. Setup\n",
        "\n",
        "Mount Drive and clone Acc0unt1ng repository.\n",
        "\n",
        "\n",
        "### ! For synchronized database !\n",
        "\n",
        "For database synchronized over different users, please share your Acc0unt1ng folder on Google drive with another user. That user should make a shortcut of that folder from \"Shared with me\" to home folder of the drive."
      ],
      "metadata": {
        "id": "DxLRxDysbnZZ"
      }
    },
    {
      "cell_type": "code",
      "execution_count": null,
      "metadata": {
        "collapsed": true,
        "id": "HkJ3uFYDOGv6"
      },
      "outputs": [],
      "source": [
        "# Run this cell for setup\n",
        "\n",
        "from google.colab import drive\n",
        "drive.mount('/content/drive')\n",
        "\n",
        "!git clone -b colab https://github.com/AlDas23/Acc0unt1ng\n",
        "%cd Acc0unt1ng\n",
        "!pip install -r requirements.txt\n",
        "# Install Node.js\n",
        "!curl -fsSL https://deb.nodesource.com/setup_18.x | bash -\n",
        "!apt-get install -y nodejs\n",
        "\n",
        "%cd Acc0unt1ng/UI/frontend\n",
        "# Install dependencies and build React app\n",
        "!npm install\n",
        "!npm run build"
      ]
    },
    {
      "cell_type": "markdown",
      "source": [
        "# 2.1 Run Web-UI\n",
        "\n",
        "Get your token from [ngrok](https://dashboard.ngrok.com/get-started/your-authtoken)\n"
      ],
      "metadata": {
        "id": "LylhU1WmTRCn"
      }
    },
    {
      "cell_type": "code",
      "source": [
        "ngrok_authtoken = \"\" # @param {\"type\":\"string\"}\n",
        "\n",
        "import os\n",
        "os.environ['NGROK_AUTHTOKEN'] = ngrok_authtoken\n",
        "\n",
        "%cd Acc0unt1ng/src\n",
        "!python run.py --ngrok-authtoken $ngrok_authtoken"
      ],
      "metadata": {
        "id": "2Ngu-ST3Temv",
        "cellView": "form"
      },
      "execution_count": null,
      "outputs": []
    }
  ]
}