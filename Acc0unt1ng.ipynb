{
  "cells": [
    {
      "cell_type": "markdown",
      "metadata": {
        "id": "aIOtSsRgOWBW"
      },
      "source": [
        "# Acc0unt1ng\n",
        "\n",
        "\n",
        "---\n",
        "\n",
        "\n",
        "### Colab version of Acc0unt1ng app from [GitHub](https://github.com/AlDas23/Acc0unt1ng)\n",
        "\n"
      ]
    },
    {
      "cell_type": "markdown",
      "metadata": {
        "id": "DxLRxDysbnZZ"
      },
      "source": [
        "# 1. Setup\n",
        "\n",
        "Mount Drive and clone Acc0unt1ng repository.\n",
        "\n",
        "\n",
        "### ! For synchronized database !\n",
        "\n",
        "For database synchronized over different users, please share your Acc0unt1ng folder on Google drive with another user. That user should make a shortcut of that folder from \"Shared with me\" to home folder of the drive."
      ]
    },
    {
      "cell_type": "code",
      "execution_count": null,
      "metadata": {
        "collapsed": true,
        "id": "HkJ3uFYDOGv6"
      },
      "outputs": [],
      "source": [
        "# Run this cell for setup\n",
        "\n",
        "from google.colab import drive\n",
        "drive.mount('/content/drive')\n",
        "\n",
        "!git clone -b colab https://github.com/AlDas23/Acc0unt1ng\n",
        "%cd Acc0unt1ng\n",
        "!pip install -r src/requirements.txt\n",
        "# Install Node.js\n",
        "!curl -o- https://raw.githubusercontent.com/nvm-sh/nvm/v0.40.3/install.sh | bash\n",
        "!nvm install 22\n",
        "\n",
        "%cd UI/frontend\n",
        "# Install dependencies and build React app\n",
        "!npm install\n",
        "!npm run build"
      ]
    },
    {
      "cell_type": "markdown",
      "metadata": {
        "id": "LylhU1WmTRCn"
      },
      "source": [
        "# 2.1 Run Web-UI\n",
        "\n",
        "Get your token from [ngrok](https://dashboard.ngrok.com/get-started/your-authtoken)\n"
      ]
    },
    {
      "cell_type": "code",
      "execution_count": null,
      "metadata": {
        "cellView": "form",
        "id": "2Ngu-ST3Temv"
      },
      "outputs": [],
      "source": [
        "ngrok_authtoken = \"\" # @param {\"type\":\"string\"}\n",
        "\n",
        "import os\n",
        "os.environ['NGROK_AUTHTOKEN'] = ngrok_authtoken\n",
        "\n",
        "# Change directory back to the root of the repository\n",
        "%cd /content/Acc0unt1ng\n",
        "\n",
        "!python src/run.py --ngrok-authtoken $ngrok_authtoken"
      ]
    }
  ],
  "metadata": {
    "colab": {
      "provenance": []
    },
    "kernelspec": {
      "display_name": "Python 3",
      "name": "python3"
    },
    "language_info": {
      "name": "python"
    }
  },
  "nbformat": 4,
  "nbformat_minor": 0
}
